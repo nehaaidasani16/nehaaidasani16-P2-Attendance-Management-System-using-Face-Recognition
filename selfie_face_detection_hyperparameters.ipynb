{
 "cells": [
  {
   "cell_type": "markdown",
   "id": "97ddb969",
   "metadata": {},
   "source": [
    "# Project: Taking Selfies Using Face Detection"
   ]
  },
  {
   "cell_type": "code",
   "execution_count": 1,
   "id": "0180808e",
   "metadata": {},
   "outputs": [],
   "source": [
    "# Importing the necessary libraries\n",
    "import cv2\n",
    "import os"
   ]
  },
  {
   "cell_type": "code",
   "execution_count": 2,
   "id": "e263eac5",
   "metadata": {},
   "outputs": [],
   "source": [
    "# Create a directory to save the images if it doesn't already exist\n",
    "if not os.path.exists(\"Selfie_Images\"):\n",
    "    os.mkdir(\"Selfie_Images\")"
   ]
  },
  {
   "cell_type": "code",
   "execution_count": 3,
   "id": "3a614f9f",
   "metadata": {},
   "outputs": [],
   "source": [
    "# Initialize the webcam (0 means the default camera)\n",
    "camera = cv2.VideoCapture(0)"
   ]
  },
  {
   "cell_type": "code",
   "execution_count": 4,
   "id": "9e984055",
   "metadata": {},
   "outputs": [],
   "source": [
    "# Load the face detection model\n",
    "face_cascade = cv2.CascadeClassifier(cv2.data.haarcascades + 'haarcascade_frontalface_default.xml')"
   ]
  },
  {
   "cell_type": "code",
   "execution_count": 5,
   "id": "c2e04dc6",
   "metadata": {},
   "outputs": [],
   "source": [
    "# Counter to keep track of the number of selfies taken\n",
    "selfie_count = 0\n",
    "\n",
    "while selfie_count < 5:\n",
    "    # Capture a frame from the webcam\n",
    "    ret, frame = camera.read()\n",
    "    if not ret:\n",
    "        break\n",
    "    \n",
    "    # Convert the frame to grayscale (required by the face detection model)\n",
    "    gray_frame = cv2.cvtColor(frame, cv2.COLOR_BGR2GRAY)\n",
    "    \n",
    "    # Detect faces in the frame\n",
    "    faces = face_cascade.detectMultiScale(gray_frame, scaleFactor=1.1, minNeighbors=5, minSize=(30, 30))\n",
    "    \n",
    "    # Draw rectangles around the detected faces and save each face\n",
    "    for i, (x, y, w, h) in enumerate(faces):\n",
    "        # Crop the face from the frame\n",
    "        face = frame[y:y+h, x:x+w]\n",
    "        # Create a separate folder for each face if multiple faces are detected\n",
    "        face_folder = f\"Selfie_Images/Face_{i+1}\"\n",
    "        if not os.path.exists(face_folder):\n",
    "            os.mkdir(face_folder)\n",
    "        # Save the cropped face image\n",
    "        face_image_path = os.path.join(face_folder, f\"selfie_{selfie_count+1}.jpg\")\n",
    "        cv2.imwrite(face_image_path, face)\n",
    "    \n",
    "    # Show the frame with rectangles around faces\n",
    "    cv2.imshow(\"Webcam - Press 'q' to Quit\", frame)\n",
    "    \n",
    "    # Wait for a key press or a delay to take the next selfie\n",
    "    key = cv2.waitKey(1000)  # Wait 1 second before taking next selfie\n",
    "    selfie_count += 1\n",
    "\n",
    "    # If 'q' is pressed, exit early\n",
    "    if key == ord('q'):\n",
    "        break"
   ]
  },
  {
   "cell_type": "code",
   "execution_count": 6,
   "id": "3fbbc076",
   "metadata": {},
   "outputs": [],
   "source": [
    "# Release the camera and close all windows\n",
    "camera.release()\n",
    "cv2.destroyAllWindows()"
   ]
  },
  {
   "cell_type": "code",
   "execution_count": 7,
   "id": "a437b9e1",
   "metadata": {},
   "outputs": [],
   "source": [
    "# Edge Detection\n",
    "edge_image = cv2.Canny(frame, 100, 200)\n",
    "\n",
    "# Display original vs edge detected image\n",
    "cv2.imshow(\"Original Image\", frame)\n",
    "cv2.imshow(\"Edge Detected Image\", edge_image)\n",
    "cv2.waitKey(0)\n",
    "cv2.destroyAllWindows()"
   ]
  },
  {
   "cell_type": "code",
   "execution_count": 8,
   "id": "48bd9eef",
   "metadata": {},
   "outputs": [],
   "source": [
    "# Image Sharpening\n",
    "import numpy as np\n",
    "kernel = np.array([[0, -1, 0], [-1, 5, -1], [0, -1, 0]])\n",
    "sharpened_image = cv2.filter2D(frame, -1, kernel)\n",
    "\n",
    "# Display original vs sharpened image\n",
    "cv2.imshow(\"Original Image\", frame)\n",
    "cv2.imshow(\"Sharpened Image\", sharpened_image)\n",
    "cv2.waitKey(0)\n",
    "cv2.destroyAllWindows()"
   ]
  },
  {
   "cell_type": "code",
   "execution_count": 9,
   "id": "664cc208",
   "metadata": {},
   "outputs": [],
   "source": [
    "# Image Sharpening\n",
    "import numpy as np\n",
    "kernel = np.array([[0, -1, 0], [-1, 5, -1], [0, -1, 0]])\n",
    "sharpened_image = cv2.filter2D(frame, -1, kernel)\n",
    "\n",
    "# Display original vs sharpened image\n",
    "cv2.imshow(\"Original Image\", frame)\n",
    "cv2.imshow(\"Sharpened Image\", sharpened_image)\n",
    "cv2.waitKey(0)\n",
    "cv2.destroyAllWindows()"
   ]
  },
  {
   "cell_type": "code",
   "execution_count": 10,
   "id": "f3b9d300",
   "metadata": {},
   "outputs": [],
   "source": [
    "# Blur Image\n",
    "blurred_image = cv2.GaussianBlur(frame, (5, 5), 0)\n",
    "\n",
    "# Display original vs blurred image\n",
    "cv2.imshow(\"Original Image\", frame)\n",
    "cv2.imshow(\"Blurred Image\", blurred_image)\n",
    "cv2.waitKey(0)\n",
    "cv2.destroyAllWindows()"
   ]
  },
  {
   "cell_type": "code",
   "execution_count": 11,
   "id": "5d3e9c7b",
   "metadata": {},
   "outputs": [],
   "source": [
    "# Image Resize\n",
    "resized_image = cv2.resize(frame, None, fx=0.5, fy=0.5)\n",
    "\n",
    "# Display original vs resized image\n",
    "cv2.imshow(\"Original Image\", frame)\n",
    "cv2.imshow(\"Resized Image\", resized_image)\n",
    "cv2.waitKey(0)\n",
    "cv2.destroyAllWindows()"
   ]
  },
  {
   "cell_type": "code",
   "execution_count": 12,
   "id": "42157d16",
   "metadata": {},
   "outputs": [],
   "source": [
    "# Image Rotation\n",
    "(h, w) = frame.shape[:2]\n",
    "center = (w // 2, h // 2)\n",
    "rotation_matrix = cv2.getRotationMatrix2D(center, 45, 1.0)\n",
    "rotated_image = cv2.warpAffine(frame, rotation_matrix, (w, h))\n",
    "\n",
    "# Display original vs rotated image\n",
    "cv2.imshow(\"Original Image\", frame)\n",
    "cv2.imshow(\"Rotated Image\", rotated_image)\n",
    "cv2.waitKey(0)\n",
    "cv2.destroyAllWindows()"
   ]
  },
  {
   "cell_type": "code",
   "execution_count": 13,
   "id": "e582924a",
   "metadata": {},
   "outputs": [],
   "source": [
    "# Image Augmentation\n",
    "flipped_image = cv2.flip(frame, 1)  # Horizontal flip\n",
    "(h, w) = flipped_image.shape[:2]\n",
    "rotation_matrix = cv2.getRotationMatrix2D((w // 2, h // 2), -30, 1.0)\n",
    "augmented_image = cv2.warpAffine(flipped_image, rotation_matrix, (w, h))\n",
    "resized_augmented = cv2.resize(augmented_image, (200, 200))\n",
    "\n",
    "# Display original vs augmented image\n",
    "cv2.imshow(\"Original Image\", frame)\n",
    "cv2.imshow(\"Augmented Image\", resized_augmented)\n",
    "cv2.waitKey(0)\n",
    "cv2.destroyAllWindows()"
   ]
  },
  {
   "cell_type": "code",
   "execution_count": 14,
   "id": "70155ab5",
   "metadata": {},
   "outputs": [],
   "source": [
    "# Image Cropping\n",
    "cropped_image = frame[50:200, 100:300]\n",
    "\n",
    "# Display original vs cropped image\n",
    "cv2.imshow(\"Original Image\", frame)\n",
    "cv2.imshow(\"Cropped Image\", cropped_image)\n",
    "cv2.waitKey(0)\n",
    "cv2.destroyAllWindows()"
   ]
  },
  {
   "cell_type": "code",
   "execution_count": 15,
   "id": "75ca9276",
   "metadata": {},
   "outputs": [],
   "source": [
    "# Convert Image to Black & White\n",
    "bw_image = cv2.cvtColor(frame, cv2.COLOR_BGR2GRAY)\n",
    "\n",
    "# Create a Negative of the Image\n",
    "negative_image = 255 - frame\n",
    "\n",
    "# Display original vs black & white vs negative image\n",
    "cv2.imshow(\"Original Image\", frame)\n",
    "cv2.imshow(\"Black & White Image\", bw_image)\n",
    "cv2.imshow(\"Negative Image\", negative_image)\n",
    "cv2.waitKey(0)\n",
    "cv2.destroyAllWindows()"
   ]
  },
  {
   "cell_type": "code",
   "execution_count": 16,
   "id": "f07e5ac8",
   "metadata": {},
   "outputs": [],
   "source": [
    "# Face Detection\n",
    "faces = face_cascade.detectMultiScale(gray_frame, scaleFactor=1.1, minNeighbors=5, minSize=(30, 30))\n",
    "for (x, y, w, h) in faces:\n",
    "    cv2.rectangle(frame, (x, y), (x+w, y+h), (255, 0, 0), 2)\n",
    "\n",
    "# Display original vs face detected image\n",
    "cv2.imshow(\"Original Image\", gray_frame)\n",
    "cv2.imshow(\"Face Detected Image\", frame)\n",
    "cv2.waitKey(0)\n",
    "cv2.destroyAllWindows()"
   ]
  },
  {
   "cell_type": "code",
   "execution_count": 17,
   "id": "8e313aa3",
   "metadata": {},
   "outputs": [],
   "source": [
    "# Identifying Facial Features\n",
    "eye_cascade = cv2.CascadeClassifier(cv2.data.haarcascades + 'haarcascade_eye.xml')\n",
    "eyes = eye_cascade.detectMultiScale(gray_frame, 1.1, 10)\n",
    "for (ex, ey, ew, eh) in eyes:\n",
    "    cv2.rectangle(frame, (ex, ey), (ex+ew, ey+eh), (0, 255, 0), 2)\n",
    "\n",
    "# Display original vs eyes detected image\n",
    "cv2.imshow(\"Original Image\", gray_frame)\n",
    "cv2.imshow(\"Eyes Detected Image\", frame)\n",
    "cv2.waitKey(0)\n",
    "cv2.destroyAllWindows()"
   ]
  }
 ],
 "metadata": {
  "kernelspec": {
   "display_name": "base",
   "language": "python",
   "name": "python3"
  },
  "language_info": {
   "codemirror_mode": {
    "name": "ipython",
    "version": 3
   },
   "file_extension": ".py",
   "mimetype": "text/x-python",
   "name": "python",
   "nbconvert_exporter": "python",
   "pygments_lexer": "ipython3",
   "version": "3.11.5"
  }
 },
 "nbformat": 4,
 "nbformat_minor": 5
}
